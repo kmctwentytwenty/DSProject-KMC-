{
 "cells": [
  {
   "cell_type": "markdown",
   "metadata": {},
   "source": [
    "                                            Effects on the US Misery Index:\n",
    "For this project I am hoping to answer the question :Does the S&P and or the median House Price have an effect on the Misery Index ?\n",
    "In order to answer this question, I am planning on using metrics from three datasets (all metrics reported monthly) from Quandl. The datasets that I am using are the Zillow, Yale, and US Misery. The final dataset has 107 rows.\n",
    "\n",
    "The Misery Index was developed by Economist Arthur Okun in the 1970s.Arthur created this index to describe the combined affects of both inflation and unemployment. He named it the Misery index since high levels of both unemployment and inflation caused misery to the u.s citizen; the unemployment rate represents how hard it is for someone to find work and make a living while inflation represents how much of something can  be bought and affects cost of living. According to thebalance.com, a Misery index between 6 and 7 percent represents a healthy economy.\n",
    "\n",
    "Going forward, after the final merge dataset is created I will do carryout doing some exploratory analysis by looking at a correlation matrix, and clustering. \n",
    "\n",
    "after exploratory analysis, I am will be using three different approaches to determine which feature, median list price and or s&p composite, has an effect and how much of an effect on the misery index I used Three differrent approaches.\n"
   ]
  },
  {
   "cell_type": "markdown",
   "metadata": {},
   "source": [
    "Below I am grabbing the 3 datasets needed for this project from Quandl for this project."
   ]
  },
  {
   "cell_type": "code",
   "execution_count": 57,
   "metadata": {},
   "outputs": [],
   "source": [
    "from sklearn.linear_model import LinearRegression\n",
    "from sklearn.model_selection import train_test_split,cross_val_predict\n",
    "from sklearn.preprocessing import MinMaxScaler,StandardScaler, Normalizer\n",
    "from sklearn import metrics\n",
    "import scipy.stats as stats\n",
    "import numpy as np\n",
    "from sklearn.cluster import KMeans\n",
    "from sklearn.metrics.cluster import silhouette_score\n",
    "import matplotlib.pyplot as plt\n",
    "\n",
    "%matplotlib inline\n",
    "import seaborn as sns\n",
    "\n",
    "import warnings\n",
    "warnings.filterwarnings('ignore')"
   ]
  },
  {
   "cell_type": "code",
   "execution_count": 2,
   "metadata": {},
   "outputs": [],
   "source": [
    "# Dataset1 from the Zillow dataset on Quandl\n",
    "import quandl\n",
    "import pandas as pd\n",
    "\n",
    "\n",
    "quandl.ApiConfig.api_key = 'TQnvQmTWu3_mxisgXmye'\n",
    "medianlistprice=quandl.get('ZILLOW/M1_MLPAH', start_date='2010-12-31', end_date='2019-12-31') \n",
    "medianpricecut=quandl.get('ZILLOW/M1_MPCDAH', start_date='2010-12-31', end_date='2019-12-31') \n",
    "percentpricecut=quandl.get('ZILLOW/M1_PLPRAH', start_date='2010-12-31', end_date='2019-12-31') \n",
    "\n"
   ]
  },
  {
   "cell_type": "code",
   "execution_count": 3,
   "metadata": {},
   "outputs": [],
   "source": [
    "\n",
    "medianlistprice_df=pd.DataFrame(medianlistprice)\n",
    "medianpricecut_df=pd.DataFrame(medianpricecut)\n",
    "percentpricecut_df=pd.DataFrame(percentpricecut)\n"
   ]
  },
  {
   "cell_type": "code",
   "execution_count": 4,
   "metadata": {},
   "outputs": [],
   "source": [
    "\n",
    "medianlistprice_df[\"medianlistprice\"]=medianlistprice_df.values\n",
    "medianpricecut_df[\"medianpricecut\"]=medianpricecut_df.values\n",
    "percentpricecut_df[\"percentpricecut\"]=percentpricecut_df.values\n"
   ]
  },
  {
   "cell_type": "code",
   "execution_count": 5,
   "metadata": {},
   "outputs": [],
   "source": [
    "\n",
    "del medianlistprice_df[\"Value\"]\n",
    "del medianpricecut_df[\"Value\"]\n",
    "del percentpricecut_df[\"Value\"]\n"
   ]
  },
  {
   "cell_type": "code",
   "execution_count": 6,
   "metadata": {},
   "outputs": [],
   "source": [
    "\n",
    "PriceConcat=pd.concat([medianlistprice_df,medianpricecut_df],axis=1,join=\"inner\")\n",
    "PriceConcatFinal=pd.concat([PriceConcat,percentpricecut_df],axis=1,join=\"inner\")"
   ]
  },
  {
   "cell_type": "code",
   "execution_count": 7,
   "metadata": {},
   "outputs": [],
   "source": [
    "#Datset2 from the US Misery Index dataset on Quandl\n",
    "quandl.ApiConfig.api_key = 'TQnvQmTWu3_mxisgXmye'\n",
    "Misery=quandl.get('USMISERY/INDEX', start_date='2005-12-31', end_date='2019-12-31')"
   ]
  },
  {
   "cell_type": "code",
   "execution_count": 8,
   "metadata": {},
   "outputs": [],
   "source": [
    "Misery_df=pd.DataFrame(Misery)"
   ]
  },
  {
   "cell_type": "code",
   "execution_count": 9,
   "metadata": {},
   "outputs": [],
   "source": [
    "MasterConcat=pd.concat([PriceConcatFinal,Misery_df],axis=1,join=\"inner\")"
   ]
  },
  {
   "cell_type": "code",
   "execution_count": 10,
   "metadata": {},
   "outputs": [],
   "source": [
    "quandl.ApiConfig.api_key = 'TQnvQmTWu3_mxisgXmye'\n",
    "SPCOMP=quandl.get('YALE/SPCOMP', start_date='2005-12-31', end_date='2019-12-31')"
   ]
  },
  {
   "cell_type": "code",
   "execution_count": 11,
   "metadata": {},
   "outputs": [],
   "source": [
    "#Dataset3 from the Yale dataset on Quandl\n",
    "SPCOMP_df=pd.DataFrame(SPCOMP)\n",
    "SPCOMP_df_new = SPCOMP_df.rename(index={'Year': 'Date'})"
   ]
  },
  {
   "cell_type": "code",
   "execution_count": 12,
   "metadata": {},
   "outputs": [],
   "source": [
    "MasterConcat=pd.concat([PriceConcatFinal,SPCOMP_df_new],axis=1,join=\"inner\")"
   ]
  },
  {
   "cell_type": "code",
   "execution_count": 13,
   "metadata": {},
   "outputs": [],
   "source": [
    "MasterConcatFinal=pd.concat([MasterConcat,Misery_df],axis=1,join=\"inner\")"
   ]
  },
  {
   "cell_type": "code",
   "execution_count": 102,
   "metadata": {},
   "outputs": [
    {
     "name": "stdout",
     "output_type": "stream",
     "text": [
      "            medianlistprice  medianpricecut  percentpricecut  S&P Composite  \\\n",
      "2019-01-31         275880.0          7000.0        14.482682    2607.390000   \n",
      "2019-02-28         279900.0          7100.0        12.381529    2754.860000   \n",
      "2019-03-31         285000.0          8000.0        13.189639    2803.980000   \n",
      "2019-04-30         289900.0          9100.0        13.952922    2903.800000   \n",
      "2019-05-31         292000.0          9900.0        15.146112    2854.710000   \n",
      "2019-08-31         289000.0          8659.5        16.640919    2897.498182   \n",
      "2019-09-30         289000.0          8600.0        16.619714    2982.156000   \n",
      "2019-10-31         285000.0          7600.0        16.673705    2977.680000   \n",
      "2019-11-30         284990.0          6900.0        13.076717    3104.904500   \n",
      "2019-12-31         282000.0          6000.0         9.882466    3223.380000   \n",
      "\n",
      "             Dividend    Earnings      CPI  Long Interest Rate   Real Price  \\\n",
      "2019-01-31  54.146667  133.056667  251.712                2.71  2663.606253   \n",
      "2019-02-28  54.543333  133.723333  252.776                2.68  2802.409823   \n",
      "2019-03-31  54.940000  134.390000  254.202                2.57  2836.376634   \n",
      "2019-04-30  55.319092  134.683333  255.548                2.53  2921.878583   \n",
      "2019-05-31  55.698183  134.976667  256.092                2.40  2866.381124   \n",
      "2019-08-31  56.839092  133.723333  256.558                1.63  2904.059842   \n",
      "2019-09-30  57.220000  132.950000  256.759                1.70  2986.569552   \n",
      "2019-10-31        NaN         NaN  257.346                1.71  2975.284860   \n",
      "2019-11-30        NaN         NaN  257.208                1.81  3104.071562   \n",
      "2019-12-31        NaN         NaN  257.139                1.91  3223.380000   \n",
      "\n",
      "            Real Dividend  Real Earnings  Cyclically Adjusted PE Ratio  \\\n",
      "2019-01-31      55.314088     135.925416                     28.380164   \n",
      "2019-02-28      55.484770     136.031444                     29.541549   \n",
      "2019-03-31      55.574766     135.942716                     29.576196   \n",
      "2019-04-30      55.663499     135.521850                     30.133517   \n",
      "2019-05-31      55.925898     135.528502                     29.242031   \n",
      "2019-08-31      56.967809     134.026163                     28.705358   \n",
      "2019-09-30      57.304685     133.146764                     29.229401   \n",
      "2019-10-31            NaN            NaN                     28.840889   \n",
      "2019-11-30            NaN            NaN                     29.911395   \n",
      "2019-12-31            NaN            NaN                     30.913600   \n",
      "\n",
      "            Unemployment Rate  Inflation Rate  Misery Index Month_Year  \n",
      "2019-01-31                4.0            1.55          5.55 2019-01-31  \n",
      "2019-02-28                3.8            1.52          5.32 2019-02-28  \n",
      "2019-03-31                3.8            1.86          5.66 2019-03-31  \n",
      "2019-04-30                3.6            2.00          5.60 2019-04-30  \n",
      "2019-05-31                3.6            1.79          5.39 2019-05-31  \n",
      "2019-08-31                3.7            1.75          5.45 2019-08-31  \n",
      "2019-09-30                3.5            1.71          5.21 2019-09-30  \n",
      "2019-10-31                3.6            1.76          5.36 2019-10-31  \n",
      "2019-11-30                3.5            2.05          5.55 2019-11-30  \n",
      "2019-12-31                3.5            2.29          5.79 2019-12-31  \n"
     ]
    }
   ],
   "source": [
    "#The 3 datasets from Quandl combined are placed into a Dataframe named MasterConcatFinal.Below are the first 20 rows.\n",
    "print(MasterConcatFinal.tail(10))"
   ]
  },
  {
   "cell_type": "code",
   "execution_count": 15,
   "metadata": {},
   "outputs": [],
   "source": [
    "MasterConcatFinal[\"Month_Year\"]=pd.to_datetime(MasterConcatFinal.index.values,format=\"%m-%d-%y\")"
   ]
  },
  {
   "cell_type": "markdown",
   "metadata": {},
   "source": [
    "Before looking at the relationship between the features(All columns besides the misery index and Month_Year column) and the label(misery index column), it is good practice to clean up columns that have NAN(or missing values) values. The code below counts the number of missing values in each column of our dataset."
   ]
  },
  {
   "cell_type": "code",
   "execution_count": 16,
   "metadata": {},
   "outputs": [
    {
     "data": {
      "text/plain": [
       "medianlistprice                 0\n",
       "medianpricecut                  0\n",
       "percentpricecut                 0\n",
       "S&P Composite                   0\n",
       "Dividend                        3\n",
       "Earnings                        3\n",
       "CPI                             0\n",
       "Long Interest Rate              0\n",
       "Real Price                      0\n",
       "Real Dividend                   3\n",
       "Real Earnings                   3\n",
       "Cyclically Adjusted PE Ratio    0\n",
       "Unemployment Rate               0\n",
       "Inflation Rate                  0\n",
       "Misery Index                    0\n",
       "Month_Year                      0\n",
       "dtype: int64"
      ]
     },
     "execution_count": 16,
     "metadata": {},
     "output_type": "execute_result"
    }
   ],
   "source": [
    "MasterConcatFinal.isnull().sum()"
   ]
  },
  {
   "cell_type": "markdown",
   "metadata": {},
   "source": [
    "There were four columns in our dataset that had NaN values. In order to solve this problem, I am filling the NaN values in each of the four columns with the mean of that column.\n"
   ]
  },
  {
   "cell_type": "code",
   "execution_count": 60,
   "metadata": {},
   "outputs": [],
   "source": [
    "feature_cols =MasterConcatFinal.iloc[:1,:-2].columns\n",
    "\n",
    "X_unscal_noNan = MasterConcatFinal[feature_cols].apply(lambda x: x.mean(),axis=0)\n",
    "X_unscal_noNan=MasterConcatFinal[feature_cols[:14]].fillna(X_unscal_noNan,axis=0)\n",
    "X_unscal_noNan=pd.DataFrame(X_unscal_noNan,columns=feature_cols)"
   ]
  },
  {
   "cell_type": "markdown",
   "metadata": {},
   "source": [
    "With the missing values taken care of, I am ready to explore the relationship between the features and label. This is an important part so that way we know what needs to be done to take\n",
    "care of issues like overfitting, which features can be used, and what model(s) to choose."
   ]
  },
  {
   "cell_type": "markdown",
   "metadata": {},
   "source": [
    "The first step I chose in exploring the dataset was to look at the correlation between the features and the label. In the correlation matrix below, both the median list price and S&P are negatively correlated with the Misery Index but are more negatively correlated with the unemployment rate which is a part of the Misery Index."
   ]
  },
  {
   "cell_type": "code",
   "execution_count": 61,
   "metadata": {},
   "outputs": [
    {
     "data": {
      "text/html": [
       "<div>\n",
       "<style scoped>\n",
       "    .dataframe tbody tr th:only-of-type {\n",
       "        vertical-align: middle;\n",
       "    }\n",
       "\n",
       "    .dataframe tbody tr th {\n",
       "        vertical-align: top;\n",
       "    }\n",
       "\n",
       "    .dataframe thead th {\n",
       "        text-align: right;\n",
       "    }\n",
       "</style>\n",
       "<table border=\"1\" class=\"dataframe\">\n",
       "  <thead>\n",
       "    <tr style=\"text-align: right;\">\n",
       "      <th></th>\n",
       "      <th>medianlistprice</th>\n",
       "      <th>medianpricecut</th>\n",
       "      <th>percentpricecut</th>\n",
       "      <th>S&amp;P Composite</th>\n",
       "      <th>Dividend</th>\n",
       "      <th>Earnings</th>\n",
       "      <th>CPI</th>\n",
       "      <th>Long Interest Rate</th>\n",
       "      <th>Real Price</th>\n",
       "      <th>Real Dividend</th>\n",
       "      <th>Real Earnings</th>\n",
       "      <th>Cyclically Adjusted PE Ratio</th>\n",
       "      <th>Unemployment Rate</th>\n",
       "      <th>Inflation Rate</th>\n",
       "      <th>Misery Index</th>\n",
       "    </tr>\n",
       "  </thead>\n",
       "  <tbody>\n",
       "    <tr>\n",
       "      <th>medianlistprice</th>\n",
       "      <td>1.000000</td>\n",
       "      <td>-0.159539</td>\n",
       "      <td>0.404225</td>\n",
       "      <td>0.970963</td>\n",
       "      <td>0.968426</td>\n",
       "      <td>0.810541</td>\n",
       "      <td>0.965255</td>\n",
       "      <td>0.061530</td>\n",
       "      <td>0.965139</td>\n",
       "      <td>0.955264</td>\n",
       "      <td>0.727094</td>\n",
       "      <td>0.920686</td>\n",
       "      <td>-0.949853</td>\n",
       "      <td>-0.059507</td>\n",
       "      <td>-0.800162</td>\n",
       "    </tr>\n",
       "    <tr>\n",
       "      <th>medianpricecut</th>\n",
       "      <td>-0.159539</td>\n",
       "      <td>1.000000</td>\n",
       "      <td>0.336161</td>\n",
       "      <td>-0.311404</td>\n",
       "      <td>-0.316400</td>\n",
       "      <td>-0.166290</td>\n",
       "      <td>-0.287162</td>\n",
       "      <td>0.189440</td>\n",
       "      <td>-0.332884</td>\n",
       "      <td>-0.351704</td>\n",
       "      <td>-0.157201</td>\n",
       "      <td>-0.251687</td>\n",
       "      <td>0.372173</td>\n",
       "      <td>0.457009</td>\n",
       "      <td>0.486062</td>\n",
       "    </tr>\n",
       "    <tr>\n",
       "      <th>percentpricecut</th>\n",
       "      <td>0.404225</td>\n",
       "      <td>0.336161</td>\n",
       "      <td>1.000000</td>\n",
       "      <td>0.341008</td>\n",
       "      <td>0.332969</td>\n",
       "      <td>0.379082</td>\n",
       "      <td>0.368260</td>\n",
       "      <td>0.171438</td>\n",
       "      <td>0.332592</td>\n",
       "      <td>0.313135</td>\n",
       "      <td>0.355700</td>\n",
       "      <td>0.325887</td>\n",
       "      <td>-0.304512</td>\n",
       "      <td>0.040117</td>\n",
       "      <td>-0.232973</td>\n",
       "    </tr>\n",
       "    <tr>\n",
       "      <th>S&amp;P Composite</th>\n",
       "      <td>0.970963</td>\n",
       "      <td>-0.311404</td>\n",
       "      <td>0.341008</td>\n",
       "      <td>1.000000</td>\n",
       "      <td>0.977150</td>\n",
       "      <td>0.852788</td>\n",
       "      <td>0.976087</td>\n",
       "      <td>0.073045</td>\n",
       "      <td>0.998350</td>\n",
       "      <td>0.967052</td>\n",
       "      <td>0.781249</td>\n",
       "      <td>0.952476</td>\n",
       "      <td>-0.957881</td>\n",
       "      <td>-0.117209</td>\n",
       "      <td>-0.829681</td>\n",
       "    </tr>\n",
       "    <tr>\n",
       "      <th>Dividend</th>\n",
       "      <td>0.968426</td>\n",
       "      <td>-0.316400</td>\n",
       "      <td>0.332969</td>\n",
       "      <td>0.977150</td>\n",
       "      <td>1.000000</td>\n",
       "      <td>0.799626</td>\n",
       "      <td>0.972240</td>\n",
       "      <td>0.004799</td>\n",
       "      <td>0.975458</td>\n",
       "      <td>0.997592</td>\n",
       "      <td>0.715398</td>\n",
       "      <td>0.899531</td>\n",
       "      <td>-0.986933</td>\n",
       "      <td>-0.230230</td>\n",
       "      <td>-0.889990</td>\n",
       "    </tr>\n",
       "    <tr>\n",
       "      <th>Earnings</th>\n",
       "      <td>0.810541</td>\n",
       "      <td>-0.166290</td>\n",
       "      <td>0.379082</td>\n",
       "      <td>0.852788</td>\n",
       "      <td>0.799626</td>\n",
       "      <td>1.000000</td>\n",
       "      <td>0.878904</td>\n",
       "      <td>0.283096</td>\n",
       "      <td>0.832434</td>\n",
       "      <td>0.765842</td>\n",
       "      <td>0.990064</td>\n",
       "      <td>0.774437</td>\n",
       "      <td>-0.733091</td>\n",
       "      <td>0.076082</td>\n",
       "      <td>-0.561634</td>\n",
       "    </tr>\n",
       "    <tr>\n",
       "      <th>CPI</th>\n",
       "      <td>0.965255</td>\n",
       "      <td>-0.287162</td>\n",
       "      <td>0.368260</td>\n",
       "      <td>0.976087</td>\n",
       "      <td>0.972240</td>\n",
       "      <td>0.878904</td>\n",
       "      <td>1.000000</td>\n",
       "      <td>-0.002409</td>\n",
       "      <td>0.965190</td>\n",
       "      <td>0.955767</td>\n",
       "      <td>0.804834</td>\n",
       "      <td>0.889037</td>\n",
       "      <td>-0.937437</td>\n",
       "      <td>-0.049793</td>\n",
       "      <td>-0.786147</td>\n",
       "    </tr>\n",
       "    <tr>\n",
       "      <th>Long Interest Rate</th>\n",
       "      <td>0.061530</td>\n",
       "      <td>0.189440</td>\n",
       "      <td>0.171438</td>\n",
       "      <td>0.073045</td>\n",
       "      <td>0.004799</td>\n",
       "      <td>0.283096</td>\n",
       "      <td>-0.002409</td>\n",
       "      <td>1.000000</td>\n",
       "      <td>0.077679</td>\n",
       "      <td>-0.021605</td>\n",
       "      <td>0.331152</td>\n",
       "      <td>0.240403</td>\n",
       "      <td>0.050107</td>\n",
       "      <td>0.338060</td>\n",
       "      <td>0.175456</td>\n",
       "    </tr>\n",
       "    <tr>\n",
       "      <th>Real Price</th>\n",
       "      <td>0.965139</td>\n",
       "      <td>-0.332884</td>\n",
       "      <td>0.332592</td>\n",
       "      <td>0.998350</td>\n",
       "      <td>0.975458</td>\n",
       "      <td>0.832434</td>\n",
       "      <td>0.965190</td>\n",
       "      <td>0.077679</td>\n",
       "      <td>1.000000</td>\n",
       "      <td>0.968726</td>\n",
       "      <td>0.760419</td>\n",
       "      <td>0.960522</td>\n",
       "      <td>-0.964554</td>\n",
       "      <td>-0.151558</td>\n",
       "      <td>-0.848802</td>\n",
       "    </tr>\n",
       "    <tr>\n",
       "      <th>Real Dividend</th>\n",
       "      <td>0.955264</td>\n",
       "      <td>-0.351704</td>\n",
       "      <td>0.313135</td>\n",
       "      <td>0.967052</td>\n",
       "      <td>0.997592</td>\n",
       "      <td>0.765842</td>\n",
       "      <td>0.955767</td>\n",
       "      <td>-0.021605</td>\n",
       "      <td>0.968726</td>\n",
       "      <td>1.000000</td>\n",
       "      <td>0.679277</td>\n",
       "      <td>0.890898</td>\n",
       "      <td>-0.992358</td>\n",
       "      <td>-0.279173</td>\n",
       "      <td>-0.914071</td>\n",
       "    </tr>\n",
       "    <tr>\n",
       "      <th>Real Earnings</th>\n",
       "      <td>0.727094</td>\n",
       "      <td>-0.157201</td>\n",
       "      <td>0.355700</td>\n",
       "      <td>0.781249</td>\n",
       "      <td>0.715398</td>\n",
       "      <td>0.990064</td>\n",
       "      <td>0.804834</td>\n",
       "      <td>0.331152</td>\n",
       "      <td>0.760419</td>\n",
       "      <td>0.679277</td>\n",
       "      <td>1.000000</td>\n",
       "      <td>0.708913</td>\n",
       "      <td>-0.644941</td>\n",
       "      <td>0.105762</td>\n",
       "      <td>-0.478474</td>\n",
       "    </tr>\n",
       "    <tr>\n",
       "      <th>Cyclically Adjusted PE Ratio</th>\n",
       "      <td>0.920686</td>\n",
       "      <td>-0.251687</td>\n",
       "      <td>0.325887</td>\n",
       "      <td>0.952476</td>\n",
       "      <td>0.899531</td>\n",
       "      <td>0.774437</td>\n",
       "      <td>0.889037</td>\n",
       "      <td>0.240403</td>\n",
       "      <td>0.960522</td>\n",
       "      <td>0.890898</td>\n",
       "      <td>0.708913</td>\n",
       "      <td>1.000000</td>\n",
       "      <td>-0.908607</td>\n",
       "      <td>-0.063367</td>\n",
       "      <td>-0.767980</td>\n",
       "    </tr>\n",
       "    <tr>\n",
       "      <th>Unemployment Rate</th>\n",
       "      <td>-0.949853</td>\n",
       "      <td>0.372173</td>\n",
       "      <td>-0.304512</td>\n",
       "      <td>-0.957881</td>\n",
       "      <td>-0.986933</td>\n",
       "      <td>-0.733091</td>\n",
       "      <td>-0.937437</td>\n",
       "      <td>0.050107</td>\n",
       "      <td>-0.964554</td>\n",
       "      <td>-0.992358</td>\n",
       "      <td>-0.644941</td>\n",
       "      <td>-0.908607</td>\n",
       "      <td>1.000000</td>\n",
       "      <td>0.266652</td>\n",
       "      <td>0.923567</td>\n",
       "    </tr>\n",
       "    <tr>\n",
       "      <th>Inflation Rate</th>\n",
       "      <td>-0.059507</td>\n",
       "      <td>0.457009</td>\n",
       "      <td>0.040117</td>\n",
       "      <td>-0.117209</td>\n",
       "      <td>-0.230230</td>\n",
       "      <td>0.076082</td>\n",
       "      <td>-0.049793</td>\n",
       "      <td>0.338060</td>\n",
       "      <td>-0.151558</td>\n",
       "      <td>-0.279173</td>\n",
       "      <td>0.105762</td>\n",
       "      <td>-0.063367</td>\n",
       "      <td>0.266652</td>\n",
       "      <td>1.000000</td>\n",
       "      <td>0.615824</td>\n",
       "    </tr>\n",
       "    <tr>\n",
       "      <th>Misery Index</th>\n",
       "      <td>-0.800162</td>\n",
       "      <td>0.486062</td>\n",
       "      <td>-0.232973</td>\n",
       "      <td>-0.829681</td>\n",
       "      <td>-0.889990</td>\n",
       "      <td>-0.561634</td>\n",
       "      <td>-0.786147</td>\n",
       "      <td>0.175456</td>\n",
       "      <td>-0.848802</td>\n",
       "      <td>-0.914071</td>\n",
       "      <td>-0.478474</td>\n",
       "      <td>-0.767980</td>\n",
       "      <td>0.923567</td>\n",
       "      <td>0.615824</td>\n",
       "      <td>1.000000</td>\n",
       "    </tr>\n",
       "  </tbody>\n",
       "</table>\n",
       "</div>"
      ],
      "text/plain": [
       "                              medianlistprice  medianpricecut  \\\n",
       "medianlistprice                      1.000000       -0.159539   \n",
       "medianpricecut                      -0.159539        1.000000   \n",
       "percentpricecut                      0.404225        0.336161   \n",
       "S&P Composite                        0.970963       -0.311404   \n",
       "Dividend                             0.968426       -0.316400   \n",
       "Earnings                             0.810541       -0.166290   \n",
       "CPI                                  0.965255       -0.287162   \n",
       "Long Interest Rate                   0.061530        0.189440   \n",
       "Real Price                           0.965139       -0.332884   \n",
       "Real Dividend                        0.955264       -0.351704   \n",
       "Real Earnings                        0.727094       -0.157201   \n",
       "Cyclically Adjusted PE Ratio         0.920686       -0.251687   \n",
       "Unemployment Rate                   -0.949853        0.372173   \n",
       "Inflation Rate                      -0.059507        0.457009   \n",
       "Misery Index                        -0.800162        0.486062   \n",
       "\n",
       "                              percentpricecut  S&P Composite  Dividend  \\\n",
       "medianlistprice                      0.404225       0.970963  0.968426   \n",
       "medianpricecut                       0.336161      -0.311404 -0.316400   \n",
       "percentpricecut                      1.000000       0.341008  0.332969   \n",
       "S&P Composite                        0.341008       1.000000  0.977150   \n",
       "Dividend                             0.332969       0.977150  1.000000   \n",
       "Earnings                             0.379082       0.852788  0.799626   \n",
       "CPI                                  0.368260       0.976087  0.972240   \n",
       "Long Interest Rate                   0.171438       0.073045  0.004799   \n",
       "Real Price                           0.332592       0.998350  0.975458   \n",
       "Real Dividend                        0.313135       0.967052  0.997592   \n",
       "Real Earnings                        0.355700       0.781249  0.715398   \n",
       "Cyclically Adjusted PE Ratio         0.325887       0.952476  0.899531   \n",
       "Unemployment Rate                   -0.304512      -0.957881 -0.986933   \n",
       "Inflation Rate                       0.040117      -0.117209 -0.230230   \n",
       "Misery Index                        -0.232973      -0.829681 -0.889990   \n",
       "\n",
       "                              Earnings       CPI  Long Interest Rate  \\\n",
       "medianlistprice               0.810541  0.965255            0.061530   \n",
       "medianpricecut               -0.166290 -0.287162            0.189440   \n",
       "percentpricecut               0.379082  0.368260            0.171438   \n",
       "S&P Composite                 0.852788  0.976087            0.073045   \n",
       "Dividend                      0.799626  0.972240            0.004799   \n",
       "Earnings                      1.000000  0.878904            0.283096   \n",
       "CPI                           0.878904  1.000000           -0.002409   \n",
       "Long Interest Rate            0.283096 -0.002409            1.000000   \n",
       "Real Price                    0.832434  0.965190            0.077679   \n",
       "Real Dividend                 0.765842  0.955767           -0.021605   \n",
       "Real Earnings                 0.990064  0.804834            0.331152   \n",
       "Cyclically Adjusted PE Ratio  0.774437  0.889037            0.240403   \n",
       "Unemployment Rate            -0.733091 -0.937437            0.050107   \n",
       "Inflation Rate                0.076082 -0.049793            0.338060   \n",
       "Misery Index                 -0.561634 -0.786147            0.175456   \n",
       "\n",
       "                              Real Price  Real Dividend  Real Earnings  \\\n",
       "medianlistprice                 0.965139       0.955264       0.727094   \n",
       "medianpricecut                 -0.332884      -0.351704      -0.157201   \n",
       "percentpricecut                 0.332592       0.313135       0.355700   \n",
       "S&P Composite                   0.998350       0.967052       0.781249   \n",
       "Dividend                        0.975458       0.997592       0.715398   \n",
       "Earnings                        0.832434       0.765842       0.990064   \n",
       "CPI                             0.965190       0.955767       0.804834   \n",
       "Long Interest Rate              0.077679      -0.021605       0.331152   \n",
       "Real Price                      1.000000       0.968726       0.760419   \n",
       "Real Dividend                   0.968726       1.000000       0.679277   \n",
       "Real Earnings                   0.760419       0.679277       1.000000   \n",
       "Cyclically Adjusted PE Ratio    0.960522       0.890898       0.708913   \n",
       "Unemployment Rate              -0.964554      -0.992358      -0.644941   \n",
       "Inflation Rate                 -0.151558      -0.279173       0.105762   \n",
       "Misery Index                   -0.848802      -0.914071      -0.478474   \n",
       "\n",
       "                              Cyclically Adjusted PE Ratio  Unemployment Rate  \\\n",
       "medianlistprice                                   0.920686          -0.949853   \n",
       "medianpricecut                                   -0.251687           0.372173   \n",
       "percentpricecut                                   0.325887          -0.304512   \n",
       "S&P Composite                                     0.952476          -0.957881   \n",
       "Dividend                                          0.899531          -0.986933   \n",
       "Earnings                                          0.774437          -0.733091   \n",
       "CPI                                               0.889037          -0.937437   \n",
       "Long Interest Rate                                0.240403           0.050107   \n",
       "Real Price                                        0.960522          -0.964554   \n",
       "Real Dividend                                     0.890898          -0.992358   \n",
       "Real Earnings                                     0.708913          -0.644941   \n",
       "Cyclically Adjusted PE Ratio                      1.000000          -0.908607   \n",
       "Unemployment Rate                                -0.908607           1.000000   \n",
       "Inflation Rate                                   -0.063367           0.266652   \n",
       "Misery Index                                     -0.767980           0.923567   \n",
       "\n",
       "                              Inflation Rate  Misery Index  \n",
       "medianlistprice                    -0.059507     -0.800162  \n",
       "medianpricecut                      0.457009      0.486062  \n",
       "percentpricecut                     0.040117     -0.232973  \n",
       "S&P Composite                      -0.117209     -0.829681  \n",
       "Dividend                           -0.230230     -0.889990  \n",
       "Earnings                            0.076082     -0.561634  \n",
       "CPI                                -0.049793     -0.786147  \n",
       "Long Interest Rate                  0.338060      0.175456  \n",
       "Real Price                         -0.151558     -0.848802  \n",
       "Real Dividend                      -0.279173     -0.914071  \n",
       "Real Earnings                       0.105762     -0.478474  \n",
       "Cyclically Adjusted PE Ratio       -0.063367     -0.767980  \n",
       "Unemployment Rate                   0.266652      0.923567  \n",
       "Inflation Rate                      1.000000      0.615824  \n",
       "Misery Index                        0.615824      1.000000  "
      ]
     },
     "execution_count": 61,
     "metadata": {},
     "output_type": "execute_result"
    }
   ],
   "source": [
    "MasterConcatFinal.iloc[:,:-1].corr()"
   ]
  },
  {
   "cell_type": "markdown",
   "metadata": {},
   "source": [
    "After doing some exploratory analysis of the 3 combined datasets from Quandl, I found that the correlation between the Median House Price and the US Misery Index is approximately -.8 and the correlation between the S&P and the US Misery Index is approximately -.83. I then used k-means clustering to see if there was a certain cluster around the last recession in 2008. "
   ]
  },
  {
   "cell_type": "markdown",
   "metadata": {},
   "source": [
    "Now I am interested in seeing how my data can be grouped using kmeans clustering. Below I am droping the label column and also scaling the data. Scaling the data prevents one feature from determining how the data is being clusterd."
   ]
  },
  {
   "cell_type": "code",
   "execution_count": 62,
   "metadata": {},
   "outputs": [],
   "source": [
    "MasterConcatFinal_no_names = X_unscal_noNan.drop(X_unscal_noNan.iloc[:,14:],axis=1)\n",
    "MasterConcatFinal_features = MasterConcatFinal_no_names.iloc[:1,:].columns\n"
   ]
  },
  {
   "cell_type": "code",
   "execution_count": 63,
   "metadata": {},
   "outputs": [],
   "source": [
    "scaler_k = StandardScaler()\n",
    "MasterConcatFinal_k_scaled = scaler_k.fit_transform(MasterConcatFinal_no_names[MasterConcatFinal_features])\n",
    "MasterConcatFinal_k_scaled  = pd.DataFrame(MasterConcatFinal_k_scaled ,columns=MasterConcatFinal_features)\n"
   ]
  },
  {
   "cell_type": "markdown",
   "metadata": {},
   "source": [
    "After scaling the data and before I can cluster the data, I need to determine how many clusters I should split my data into.\n",
    "The number of clusters is determined by the first lowest silhouette score in the range of 2 to 16 clusters."
   ]
  },
  {
   "cell_type": "code",
   "execution_count": 64,
   "metadata": {},
   "outputs": [
    {
     "data": {
      "text/plain": [
       "Text(0, 0.5, 'Silhouette Coefficient')"
      ]
     },
     "execution_count": 64,
     "metadata": {},
     "output_type": "execute_result"
    },
    {
     "data": {
      "image/png": "[encoded data removed]",
      "text/plain": [
       "<Figure size 432x288 with 1 Axes>"
      ]
     },
     "metadata": {
      "needs_background": "light"
     },
     "output_type": "display_data"
    }
   ],
   "source": [
    "k_range = range(2,16)\n",
    "scores = []\n",
    "for k in k_range:\n",
    "    km_ss = KMeans(n_clusters=k, random_state=3)\n",
    "    km_ss.fit(MasterConcatFinal_k_scaled)\n",
    "    scores.append(silhouette_score(MasterConcatFinal_k_scaled, km_ss.labels_))\n",
    "\n",
    "# plot the results\n",
    "sns.mpl.pyplot.plot(k_range, scores)\n",
    "sns.mpl.pyplot.xlabel('Number of clusters')\n",
    "sns.mpl.pyplot.ylabel('Silhouette Coefficient')"
   ]
  },
  {
   "cell_type": "markdown",
   "metadata": {},
   "source": [
    "From the above chart, the number of clusters where the silhouette coefficient score is at it's first lowest score is at 5 cluster.\n",
    "Below I am running k-means with 5 clusters and then attaching the columns month year and misery index back to the dataset."
   ]
  },
  {
   "cell_type": "code",
   "execution_count": 65,
   "metadata": {},
   "outputs": [],
   "source": [
    "km5 = KMeans(n_clusters=5,random_state=1249)\n",
    "km5.fit(MasterConcatFinal_k_scaled)\n",
    "MasterConcatFinal_k_scaled['kmeans_five_scaled'] = [ \"cluster_\" + str(label) for label in km5.labels_ ]\n"
   ]
  },
  {
   "cell_type": "code",
   "execution_count": 66,
   "metadata": {},
   "outputs": [
    {
     "data": {
      "text/html": [
       "<div>\n",
       "<style scoped>\n",
       "    .dataframe tbody tr th:only-of-type {\n",
       "        vertical-align: middle;\n",
       "    }\n",
       "\n",
       "    .dataframe tbody tr th {\n",
       "        vertical-align: top;\n",
       "    }\n",
       "\n",
       "    .dataframe thead th {\n",
       "        text-align: right;\n",
       "    }\n",
       "</style>\n",
       "<table border=\"1\" class=\"dataframe\">\n",
       "  <thead>\n",
       "    <tr style=\"text-align: right;\">\n",
       "      <th></th>\n",
       "      <th></th>\n",
       "      <th>medianlistprice</th>\n",
       "      <th>S&amp;P Composite</th>\n",
       "    </tr>\n",
       "    <tr>\n",
       "      <th>Year</th>\n",
       "      <th>kmeans_five_scaled</th>\n",
       "      <th></th>\n",
       "      <th></th>\n",
       "    </tr>\n",
       "  </thead>\n",
       "  <tbody>\n",
       "    <tr>\n",
       "      <th>2010</th>\n",
       "      <th>cluster_4</th>\n",
       "      <td>-1.117872</td>\n",
       "      <td>-1.452085</td>\n",
       "    </tr>\n",
       "    <tr>\n",
       "      <th>2011</th>\n",
       "      <th>cluster_4</th>\n",
       "      <td>-1.174006</td>\n",
       "      <td>-1.401670</td>\n",
       "    </tr>\n",
       "    <tr>\n",
       "      <th rowspan=\"2\" valign=\"top\">2012</th>\n",
       "      <th>cluster_2</th>\n",
       "      <td>-1.211490</td>\n",
       "      <td>-1.184503</td>\n",
       "    </tr>\n",
       "    <tr>\n",
       "      <th>cluster_4</th>\n",
       "      <td>-1.387750</td>\n",
       "      <td>-1.343275</td>\n",
       "    </tr>\n",
       "    <tr>\n",
       "      <th>2013</th>\n",
       "      <th>cluster_2</th>\n",
       "      <td>-0.913806</td>\n",
       "      <td>-0.713204</td>\n",
       "    </tr>\n",
       "    <tr>\n",
       "      <th rowspan=\"2\" valign=\"top\">2014</th>\n",
       "      <th>cluster_0</th>\n",
       "      <td>-0.336390</td>\n",
       "      <td>-0.141329</td>\n",
       "    </tr>\n",
       "    <tr>\n",
       "      <th>cluster_2</th>\n",
       "      <td>-0.835210</td>\n",
       "      <td>-0.386702</td>\n",
       "    </tr>\n",
       "    <tr>\n",
       "      <th>2015</th>\n",
       "      <th>cluster_0</th>\n",
       "      <td>-0.043449</td>\n",
       "      <td>0.058303</td>\n",
       "    </tr>\n",
       "    <tr>\n",
       "      <th rowspan=\"2\" valign=\"top\">2016</th>\n",
       "      <th>cluster_0</th>\n",
       "      <td>0.400625</td>\n",
       "      <td>0.088843</td>\n",
       "    </tr>\n",
       "    <tr>\n",
       "      <th>cluster_3</th>\n",
       "      <td>0.399127</td>\n",
       "      <td>0.399993</td>\n",
       "    </tr>\n",
       "    <tr>\n",
       "      <th>2017</th>\n",
       "      <th>cluster_3</th>\n",
       "      <td>0.821827</td>\n",
       "      <td>0.771455</td>\n",
       "    </tr>\n",
       "    <tr>\n",
       "      <th rowspan=\"2\" valign=\"top\">2018</th>\n",
       "      <th>cluster_1</th>\n",
       "      <td>1.401366</td>\n",
       "      <td>1.325175</td>\n",
       "    </tr>\n",
       "    <tr>\n",
       "      <th>cluster_3</th>\n",
       "      <td>1.044751</td>\n",
       "      <td>1.295438</td>\n",
       "    </tr>\n",
       "    <tr>\n",
       "      <th rowspan=\"2\" valign=\"top\">2019</th>\n",
       "      <th>cluster_1</th>\n",
       "      <td>1.618165</td>\n",
       "      <td>1.473483</td>\n",
       "    </tr>\n",
       "    <tr>\n",
       "      <th>cluster_3</th>\n",
       "      <td>1.566610</td>\n",
       "      <td>1.976146</td>\n",
       "    </tr>\n",
       "  </tbody>\n",
       "</table>\n",
       "</div>"
      ],
      "text/plain": [
       "                         medianlistprice  S&P Composite\n",
       "Year kmeans_five_scaled                                \n",
       "2010 cluster_4                 -1.117872      -1.452085\n",
       "2011 cluster_4                 -1.174006      -1.401670\n",
       "2012 cluster_2                 -1.211490      -1.184503\n",
       "     cluster_4                 -1.387750      -1.343275\n",
       "2013 cluster_2                 -0.913806      -0.713204\n",
       "2014 cluster_0                 -0.336390      -0.141329\n",
       "     cluster_2                 -0.835210      -0.386702\n",
       "2015 cluster_0                 -0.043449       0.058303\n",
       "2016 cluster_0                  0.400625       0.088843\n",
       "     cluster_3                  0.399127       0.399993\n",
       "2017 cluster_3                  0.821827       0.771455\n",
       "2018 cluster_1                  1.401366       1.325175\n",
       "     cluster_3                  1.044751       1.295438\n",
       "2019 cluster_1                  1.618165       1.473483\n",
       "     cluster_3                  1.566610       1.976146"
      ]
     },
     "execution_count": 66,
     "metadata": {},
     "output_type": "execute_result"
    }
   ],
   "source": [
    "x=MasterConcatFinal_k_scaled\n",
    "y1=MasterConcatFinal['Month_Year'].to_list()\n",
    "y1=pd.DataFrame(y1,columns=['monthyear'])\n",
    "z=x.set_index(y1.monthyear)\n",
    "z['Month_Year']=pd.to_datetime(z.index.values,format=\"%m-%d-%y\")\n",
    "z['Year']=z['Month_Year'].dt.year\n",
    "z_columns=['Month_Year','Year','kmeans_five_scaled','medianlistprice', 'medianpricecut', 'percentpricecut', 'S&P Composite',\n",
    "       'Dividend', 'Earnings', 'CPI', 'Long Interest Rate', 'Real Price',\n",
    "       'Real Dividend', 'Real Earnings', 'Cyclically Adjusted PE Ratio',\n",
    "       'Unemployment Rate', 'Inflation Rate']\n",
    "z_rearranged=z[z_columns]\n",
    "z_rearranged.groupby(['Year','kmeans_five_scaled'])['medianlistprice','S&P Composite'].mean()\n",
    "#z_rearranged.groupby('Month_Year')['medianlistprice','S&P Composite'].mean()   "
   ]
  },
  {
   "cell_type": "markdown",
   "metadata": {},
   "source": [
    "from the below results with 5 clusters, I saw that back in 2010 where we started to emerge from the recession, that cluster 4 has low medianlistprice and S&P values in contrast to cluster 0 that had medium medianlistprice and S&P values. Now back in 2018 and 2019, a new cluster cluster3 represents high medianlistprice and S&P values."
   ]
  },
  {
   "cell_type": "code",
   "execution_count": 68,
   "metadata": {},
   "outputs": [
    {
     "data": {
      "text/plain": [
       "(array([ 0.,  2.,  4.,  6.,  8., 10., 12., 14.]),\n",
       " <a list of 8 Text xticklabel objects>)"
      ]
     },
     "execution_count": 68,
     "metadata": {},
     "output_type": "execute_result"
    },
    {
     "data": {
      "image/png": "[encoded data removed]",
      "text/plain": [
       "<Figure size 432x288 with 1 Axes>"
      ]
     },
     "metadata": {
      "needs_background": "light"
     },
     "output_type": "display_data"
    }
   ],
   "source": [
    "medianlistprice_year=z_rearranged.groupby(['Year','kmeans_five_scaled'])['medianlistprice'].mean()\n",
    "sandp_year=z_rearranged.groupby(['Year','kmeans_five_scaled'])['S&P Composite'].mean()\n",
    "\n",
    "\n",
    "medianlistprice_year.plot()\n",
    "sandp_year.plot()\n",
    "plt.xlabel('xlabel', fontsize=5)\n",
    "plt.xticks(rotation='vertical')"
   ]
  },
  {
   "cell_type": "markdown",
   "metadata": {},
   "source": [
    "Going back to the importance of exploring the data, in the correlation matrix I saw the features medianlistprice and S&P are highly correlated with one another. This is important to note since linear regression coefficients are used to determine the effect on the label but assume that the features used in the model are independent and normally distributed."
   ]
  },
  {
   "cell_type": "markdown",
   "metadata": {},
   "source": [
    "my first approach:Below I am running 2 linear regression models ; one with the median list price and the S&P. I will \n",
    "choose the model that best describes the variance in the data(the model with the lower rmse). Doing this I am choosing which model also best describes the effect of the feature on the Misery Index. For now, I am assuming that both features are normally distributed as well which is rare.\n"
   ]
  },
  {
   "cell_type": "code",
   "execution_count": 69,
   "metadata": {},
   "outputs": [],
   "source": [
    "from sklearn.linear_model import LinearRegression\n",
    "from sklearn.model_selection import train_test_split\n",
    "from sklearn.preprocessing import MinMaxScaler\n",
    "from sklearn import metrics\n",
    "import scipy.stats as stats"
   ]
  },
  {
   "cell_type": "code",
   "execution_count": 70,
   "metadata": {},
   "outputs": [
    {
     "data": {
      "text/plain": [
       "LinearRegression(copy_X=True, fit_intercept=True, n_jobs=None, normalize=False)"
      ]
     },
     "execution_count": 70,
     "metadata": {},
     "output_type": "execute_result"
    }
   ],
   "source": [
    "feature_cols1 = ['medianlistprice']\n",
    "X1 = MasterConcatFinal[feature_cols1]\n",
    "feature_cols2 = ['S&P Composite']\n",
    "X2 = MasterConcatFinal[feature_cols2]\n",
    "y=MasterConcatFinal['Misery Index']\n",
    "\n",
    "X1_train,X1_test,y1_train,y1_test = train_test_split(X1,y,\n",
    "                                                 test_size=0.2,\n",
    "                                                 random_state=1235)\n",
    "X2_train,X2_test,y2_train,y2_test = train_test_split(X2,y,\n",
    "                                                 test_size=0.2,\n",
    "                                                 random_state=1236)\n",
    "\n",
    "X2_linreg = LinearRegression()\n",
    "X2_linreg.fit(X2_train, y2_train)\n",
    "X1_linreg = LinearRegression()\n",
    "X1_linreg.fit(X1_train, y1_train)\n"
   ]
  },
  {
   "cell_type": "code",
   "execution_count": 71,
   "metadata": {},
   "outputs": [
    {
     "name": "stdout",
     "output_type": "stream",
     "text": [
      "                                  X1                   X2\n",
      "0                 The rmse score is:   The rmse score is:\n",
      "1                            1.29441              1.27342\n",
      "2  for the feature Median List Price  for the feature S&P\n"
     ]
    }
   ],
   "source": [
    "y_predmed = X1_linreg.predict(X1_test)\n",
    "y_predsNp = X2_linreg.predict(X2_test)\n",
    "\n",
    "score={\n",
    "       'X1':[],\n",
    "       'X2':[]\n",
    "     \n",
    "        }\n",
    "score['X1']=['The rmse score is:',np.sqrt(metrics.mean_squared_error(y1_test,y_predmed)),'for the feature Median List Price']\n",
    "score['X2']=['The rmse score is:',np.sqrt(metrics.mean_squared_error(y2_test,y_predsNp)),'for the feature S&P']\n",
    "\n",
    "\n",
    "scoredf=pd.DataFrame(score)\n",
    "print(scoredf)"
   ]
  },
  {
   "cell_type": "markdown",
   "metadata": {},
   "source": [
    "The rmse score is better for the model using the feature S&P than the model using the feature median list price."
   ]
  },
  {
   "cell_type": "code",
   "execution_count": null,
   "metadata": {},
   "outputs": [],
   "source": [
    "# print the coefficients for the model using the feature S&P\n",
    "print(\"The y intercept:\", X2_linreg.intercept_)\n",
    "print(\"The single coefficient:\", X2_linreg.coef_)\n",
    "\n",
    "\n",
    "print('A one unit change in S&P Composite decreases the misery index by 0.3 percent')"
   ]
  },
  {
   "cell_type": "markdown",
   "metadata": {},
   "source": [
    "\n",
    "Second approach:Now I wonder if I scaled and took care of the skewness of the data (or I didn't assume the features to be normally distributed) if the S&P Composite would have a larger effect on the \n",
    "misery index and if the rmse scores will improve. "
   ]
  },
  {
   "cell_type": "code",
   "execution_count": 72,
   "metadata": {},
   "outputs": [],
   "source": [
    "from sklearn.linear_model import LinearRegression\n",
    "from sklearn.model_selection import train_test_split\n",
    "from sklearn import metrics\n",
    "from sklearn.preprocessing import MinMaxScaler\n",
    "\n",
    "#below I'm scaling all values in the final dataset named MasterConcatFinal to take on values between 0 and 1\n",
    "scaler = MinMaxScaler() #create a scaler object\n",
    "scaler.fit(MasterConcatFinal_no_names) #fit the scaler\n",
    "X_scaled = scaler.transform(MasterConcatFinal_no_names) #transform the data with it\n",
    "X_scaled_df=pd.DataFrame(X_scaled,columns=MasterConcatFinal_features)\n",
    "#X_scaled_df.head(20)"
   ]
  },
  {
   "cell_type": "code",
   "execution_count": 73,
   "metadata": {},
   "outputs": [
    {
     "data": {
      "image/png": "[encoded data removed]",
      "text/plain": [
       "<Figure size 432x288 with 1 Axes>"
      ]
     },
     "metadata": {
      "needs_background": "light"
     },
     "output_type": "display_data"
    }
   ],
   "source": [
    "#Below is the distribution of the medianlistprice values prior to taking care of the skewness in the resulting distribution.\n",
    "sns.mpl.pyplot.hist(X_scaled_df.medianlistprice)\n",
    "sns.mpl.pyplot.xlabel(\"medianlistprice\")\n",
    "sns.mpl.pyplot.ylabel(\"Frequency\");\n"
   ]
  },
  {
   "cell_type": "code",
   "execution_count": 74,
   "metadata": {},
   "outputs": [
    {
     "data": {
      "image/png": "[encoded data removed]",
      "text/plain": [
       "<Figure size 432x288 with 1 Axes>"
      ]
     },
     "metadata": {
      "needs_background": "light"
     },
     "output_type": "display_data"
    }
   ],
   "source": [
    "#Below is the distribution of the S&P composite values prior to taking care of the skewness in the resulting distribution.\n",
    "sns.mpl.pyplot.hist(X_scaled_df['S&P Composite'])\n",
    "sns.mpl.pyplot.xlabel('S&P Composite')\n",
    "sns.mpl.pyplot.ylabel(\"Frequency\");"
   ]
  },
  {
   "cell_type": "code",
   "execution_count": 75,
   "metadata": {},
   "outputs": [],
   "source": [
    "#So the function that gets rid of skewness can't handle columns \n",
    "#where the value is zero so below I am replacing values of 0 with 0.00001\n",
    "X_scaled_df=X_scaled_df.replace(to_replace=0,value=0.00001)"
   ]
  },
  {
   "cell_type": "code",
   "execution_count": 76,
   "metadata": {},
   "outputs": [],
   "source": [
    "#below I am taking care of the skewness of the data in the columns medianlistprice and S&P Composite\n",
    "from scipy import stats\n",
    "boxcox_medianlistprice,power_val = stats.boxcox(X_scaled_df.medianlistprice)\n",
    "boxcox_spcomposite,power_val2 = stats.boxcox(X_scaled_df['S&P Composite'])\n"
   ]
  },
  {
   "cell_type": "code",
   "execution_count": 77,
   "metadata": {},
   "outputs": [
    {
     "data": {
      "text/plain": [
       "Text(0.5, 0, 'BoxCox, S&P Composite')"
      ]
     },
     "execution_count": 77,
     "metadata": {},
     "output_type": "execute_result"
    },
    {
     "data": {
      "image/png": "[encoded data removed]",
      "text/plain": [
       "<Figure size 864x576 with 2 Axes>"
      ]
     },
     "metadata": {
      "needs_background": "light"
     },
     "output_type": "display_data"
    }
   ],
   "source": [
    "#Now lets see how the distributions of the values underneath the medianlistprice and S&P Composite look. I am expecting that the \n",
    "#distributions are closer to a normal distribution since linear regression models assume that the features are normally distributed.\n",
    "figure = sns.mpl.pyplot.figure(figsize=(12,8))\n",
    "\n",
    "figure.add_subplot(141)\n",
    "sns.distplot(boxcox_medianlistprice)\n",
    "sns.mpl.pyplot.xlabel(\"BoxCox, median list price\")\n",
    "\n",
    "figure.add_subplot(142)\n",
    "sns.distplot(boxcox_spcomposite)\n",
    "sns.mpl.pyplot.xlabel(\"BoxCox, S&P Composite\")"
   ]
  },
  {
   "cell_type": "markdown",
   "metadata": {},
   "source": [
    "Now with the data more normally distributed and scaled, I am going to run 2 linear regressions again below."
   ]
  },
  {
   "cell_type": "code",
   "execution_count": 79,
   "metadata": {},
   "outputs": [],
   "source": [
    "X_scaled_skew_MLP=pd.DataFrame(boxcox_medianlistprice)\n",
    "X_scaled_skew_SP=pd.DataFrame(boxcox_spcomposite)\n",
    "\n",
    "X_train_new_MLP,X_test_new_MLP,y_train_new_MLP,y_test_new_MLP = train_test_split(X_scaled_skew_MLP,y,\n",
    "                                                 test_size=0.2,\n",
    "                                                 random_state=1237)\n",
    "                                                 \n",
    "X_train_new_SP,X_test_new_SP,y_train_new_SP,y_test_new_SP = train_test_split(X_scaled_skew_SP,y,\n",
    "                                                 test_size=0.2,\n",
    "                                                 random_state=1238)\n",
    "                                                 \n"
   ]
  },
  {
   "cell_type": "code",
   "execution_count": 80,
   "metadata": {},
   "outputs": [
    {
     "name": "stdout",
     "output_type": "stream",
     "text": [
      "                                  X1                   X2\n",
      "0                 The rmse score is:   The rmse score is:\n",
      "1                            1.01564             0.977807\n",
      "2  for the feature Median List Price  for the feature S&P\n"
     ]
    }
   ],
   "source": [
    "#after using the linear regression model on the medianlistprice and S&P Composite after taking care of skewness in the distribution\n",
    "#of values in these columns, both rmse's improved. \n",
    "X_scaled_skew_MLP_linreg = LinearRegression()\n",
    "X_scaled_skew_MLP_linreg.fit(X_train_new_MLP, y_train_new_MLP)\n",
    "X_scaled_skew_SP_linreg = LinearRegression()\n",
    "X_scaled_skew_SP_linreg.fit(X_train_new_SP, y_train_new_SP)\n",
    "\n",
    "y_scaled_skew_predmed = X_scaled_skew_MLP_linreg.predict(X_test_new_MLP)\n",
    "y_scale_skew_predsNp = X_scaled_skew_SP_linreg.predict(X_test_new_SP)\n",
    "\n",
    "score_scaled_skew={\n",
    "       'X1':[],\n",
    "       'X2':[]\n",
    "     \n",
    "        }\n",
    "score_scaled_skew['X1']=['The rmse score is:',np.sqrt(metrics.mean_squared_error(y_test_new_MLP,y_scaled_skew_predmed)),'for the feature Median List Price']\n",
    "score_scaled_skew['X2']=['The rmse score is:',np.sqrt(metrics.mean_squared_error(y_test_new_SP,y_scale_skew_predsNp)),'for the feature S&P']\n",
    "\n",
    "\n",
    "score_scaled_skew_df=pd.DataFrame(score_scaled_skew)\n",
    "print(score_scaled_skew_df)\n",
    "\n"
   ]
  },
  {
   "cell_type": "code",
   "execution_count": null,
   "metadata": {},
   "outputs": [],
   "source": [
    "# print the coefficients for the model using the feature medianlistprice after scaling and taking care of the skewed data\n",
    "print(\"The y intercept:\", X_scaled_skew_MLP_linreg.intercept_)\n",
    "print(\"The single coefficient:\", X_scaled_skew_MLP_linreg.coef_)\n",
    "\n",
    "\n",
    "# print the coefficients for the model using the feature S&P Composite after scaling and taking care of the skewed data\n",
    "print(\"The y intercept:\", X_scaled_skew_SP_linreg.intercept_)\n",
    "print(\"The single coefficient:\", X_scaled_skew_SP_linreg.coef_)"
   ]
  },
  {
   "cell_type": "markdown",
   "metadata": {},
   "source": [
    "Third approach: Now I wonder what would happen if I did some PCA and then ran a linear regression 50-Fold mondel on both the medianlistprice and S&P Composite . PCA is used as a way to make features that are dependent on one another not dependent on one another. "
   ]
  },
  {
   "cell_type": "code",
   "execution_count": 81,
   "metadata": {},
   "outputs": [],
   "source": [
    "from sklearn.model_selection import cross_val_score\n",
    "from sklearn.decomposition import PCA\n",
    "from sklearn.preprocessing import LabelEncoder, PolynomialFeatures\n",
    "\n"
   ]
  },
  {
   "cell_type": "code",
   "execution_count": 88,
   "metadata": {},
   "outputs": [],
   "source": [
    "X_scaled_features=['S&P Composite','MedianListPrice']\n",
    "X_scaled_pca=X_scaled_df.iloc[:,:2]\n",
    "pca = PCA()\n",
    "transformed_pca_x = pca.fit_transform(X_scaled_pca)\n",
    "#create component indices\n",
    "component_names = [\"component_\"+str(comp) for comp in range(1, len(pca.explained_variance_)+1)]\n",
    "\n",
    "component_matrix = pd.DataFrame(pca.components_,index=component_names,columns = ['S&P Composite','MedianListPrice'])\n"
   ]
  },
  {
   "cell_type": "code",
   "execution_count": 83,
   "metadata": {},
   "outputs": [],
   "source": [
    "#PCA linearly combines features in order to make them independent of one another. After PCA, components (composed of a mixture of features)\n",
    "#, we want to see which component explains most of the variance in the data. Below, component1 explains most of the variance\n",
    "#in the data. Next, let look at the component_matrix to see how much of a feature is associated with component1.\n"
   ]
  },
  {
   "cell_type": "code",
   "execution_count": 84,
   "metadata": {},
   "outputs": [
    {
     "data": {
      "text/html": [
       "<div>\n",
       "<style scoped>\n",
       "    .dataframe tbody tr th:only-of-type {\n",
       "        vertical-align: middle;\n",
       "    }\n",
       "\n",
       "    .dataframe tbody tr th {\n",
       "        vertical-align: top;\n",
       "    }\n",
       "\n",
       "    .dataframe thead th {\n",
       "        text-align: right;\n",
       "    }\n",
       "</style>\n",
       "<table border=\"1\" class=\"dataframe\">\n",
       "  <thead>\n",
       "    <tr style=\"text-align: right;\">\n",
       "      <th></th>\n",
       "      <th>S&amp;P Composite</th>\n",
       "      <th>MedianListPrice</th>\n",
       "      <th>explained_variance_ratio</th>\n",
       "      <th>eigenvalue</th>\n",
       "    </tr>\n",
       "  </thead>\n",
       "  <tbody>\n",
       "    <tr>\n",
       "      <th>component_1</th>\n",
       "      <td>0.936367</td>\n",
       "      <td>-0.351023</td>\n",
       "      <td>0.619366</td>\n",
       "      <td>0.104685</td>\n",
       "    </tr>\n",
       "    <tr>\n",
       "      <th>component_2</th>\n",
       "      <td>0.351023</td>\n",
       "      <td>0.936367</td>\n",
       "      <td>0.380634</td>\n",
       "      <td>0.064335</td>\n",
       "    </tr>\n",
       "  </tbody>\n",
       "</table>\n",
       "</div>"
      ],
      "text/plain": [
       "             S&P Composite  MedianListPrice  explained_variance_ratio  \\\n",
       "component_1       0.936367        -0.351023                  0.619366   \n",
       "component_2       0.351023         0.936367                  0.380634   \n",
       "\n",
       "             eigenvalue  \n",
       "component_1    0.104685  \n",
       "component_2    0.064335  "
      ]
     },
     "execution_count": 84,
     "metadata": {},
     "output_type": "execute_result"
    },
    {
     "data": {
      "image/png": "[encoded data removed]",
      "text/plain": [
       "<Figure size 1296x432 with 2 Axes>"
      ]
     },
     "metadata": {
      "needs_background": "light"
     },
     "output_type": "display_data"
    }
   ],
   "source": [
    "\n",
    "component_matrix[\"explained_variance_ratio\"] = pca.explained_variance_ratio_\n",
    "component_matrix[\"eigenvalue\"] = pca.explained_variance_\n",
    "figure = sns.mpl.pyplot.figure(figsize=(18,6))\n",
    "\n",
    "\n",
    "#component matrix\n",
    "figure.add_subplot(131)\n",
    "sns.heatmap(component_matrix.iloc[:,:-2])\n",
    "component_matrix.iloc[:,:]"
   ]
  },
  {
   "cell_type": "code",
   "execution_count": 85,
   "metadata": {},
   "outputs": [],
   "source": [
    "#In the matrix above Component1, a column that was created after PCA and is made up of both features medianlistprice and S&P\n",
    "#,is composed more of the median list price than the S&P Composite.\n",
    "\n",
    "#now lets do a 50 fold on our PCA data"
   ]
  },
  {
   "cell_type": "code",
   "execution_count": 99,
   "metadata": {},
   "outputs": [
    {
     "name": "stdout",
     "output_type": "stream",
     "text": [
      "50-fold mean RMSE:  0.8908976535959657\n",
      "50-fold std RMSE:  0.6936119533037648\n"
     ]
    },
    {
     "data": {
      "text/plain": [
       "LinearRegression(copy_X=True, fit_intercept=True, n_jobs=None, normalize=False)"
      ]
     },
     "execution_count": 99,
     "metadata": {},
     "output_type": "execute_result"
    }
   ],
   "source": [
    "lr=LinearRegression()\n",
    "mean_squared_errors = np.abs(cross_val_score(lr,pd.DataFrame(transformed_pca_x).iloc[:,:2],y,cv=50,scoring='neg_mean_squared_error'))\n",
    "#apply square root to each fold\n",
    "root_mean_squared_errors = list(map(np.sqrt,mean_squared_errors))\n",
    "print(\"50-fold mean RMSE: \", np.mean(root_mean_squared_errors))\n",
    "print(\"50-fold std RMSE: \", np.std(root_mean_squared_errors))\n",
    "\n",
    "lr.fit(transformed_pca_x,y)\n"
   ]
  },
  {
   "cell_type": "code",
   "execution_count": null,
   "metadata": {},
   "outputs": [],
   "source": [
    "#The 50 fold on our scaled_skew data performed the best out of all models with a rmse of .855, so both the medianlistprice and \n",
    "#s&p composite affect the misery index.Now supose I want to know what the misery index would be 1 to 5 months from now.\n",
    "#So below I am computing the rolling 1 to 5 month average for the medianlistprice and S&P Composite, then scaling the data,\n",
    "#and lastly using PCA again, before predicting the misery index from 1 to 5 months, in order to remove the dependence between.\n",
    "#the features medianlistprice and S&P Composite."
   ]
  },
  {
   "cell_type": "code",
   "execution_count": 97,
   "metadata": {},
   "outputs": [],
   "source": [
    "X_unscal_noNan['fivemonth_medianlistprice_mean'] = X_unscal_noNan.medianlistprice.rolling(window = 5,min_periods=1).mean()\n",
    "X_unscal_noNan['fourmonth_medianlistprice_mean'] = X_unscal_noNan.medianlistprice.rolling(window = 4,min_periods=1).mean()\n",
    "X_unscal_noNan['threemonth_medianlistprice_mean'] = X_unscal_noNan.medianlistprice.rolling(window = 3,min_periods=1).mean()\n",
    "X_unscal_noNan['twomonth_medianlistprice_mean'] = X_unscal_noNan.medianlistprice.rolling(window = 2,min_periods=1).mean()\n",
    "X_unscal_noNan['onemonth_medianlistprice_mean'] = X_unscal_noNan.medianlistprice.rolling(window = 1,min_periods=1).mean()\n",
    "\n",
    "X_unscal_noNan['fivemonth_sp_mean'] = X_unscal_noNan['S&P Composite'].rolling(window = 5,min_periods=1).mean()\n",
    "X_unscal_noNan['fourmonth_sp_mean'] = X_unscal_noNan['S&P Composite'].rolling(window = 4,min_periods=1).mean()\n",
    "X_unscal_noNan['threemonth_sp_mean'] = X_unscal_noNan['S&P Composite'].rolling(window = 3,min_periods=1).mean()\n",
    "X_unscal_noNan['twomonth_sp_mean'] = X_unscal_noNan['S&P Composite'].rolling(window = 2,min_periods=1).mean()\n",
    "X_unscal_noNan['onemonth_sp_mean'] = X_unscal_noNan['S&P Composite'].rolling(window = 1,min_periods=1).mean()\n",
    "\n",
    "\n",
    "X_unscal_new=pd.DataFrame(X_unscal_noNan.iloc[-1,14:])\n",
    "X_unscal_new_medlistprice=X_unscal_new.iloc[0:5,:]\n",
    "X_unscal_new_sandp=X_unscal_new.iloc[5:11,:]\n",
    "y_new=X_unscal_new.iloc[10:,:]\n",
    "\n",
    "scaler2 = MinMaxScaler() #create a new scaler object\n",
    "scaler2.fit(pd.DataFrame(X_unscal_new_medlistprice))\n",
    "X_test_medlistprice_scaled=scaler2.transform(pd.DataFrame(X_unscal_new_medlistprice)) \n",
    "scaler2.fit(pd.DataFrame(X_unscal_new_sandp))\n",
    "X_test_sandp_scaled=scaler2.transform(pd.DataFrame(X_unscal_new_sandp)) \n",
    "\n",
    "X_test=pd.concat([pd.DataFrame(X_test_medlistprice_scaled),pd.DataFrame(X_test_sandp_scaled)],axis=1,join='inner')\n"
   ]
  },
  {
   "cell_type": "code",
   "execution_count": 98,
   "metadata": {},
   "outputs": [
    {
     "data": {
      "text/plain": [
       "array([11.56037951,  9.96094775,  8.06614788,  5.93646724,  3.03166509])"
      ]
     },
     "execution_count": 98,
     "metadata": {},
     "output_type": "execute_result"
    }
   ],
   "source": [
    "transformed_pca_x_test = pca.fit_transform(X_test)\n",
    "lr.predict(transformed_pca_x_test)\n",
    "# the results below from right to left represent the misery index from 5 months to 1 month."
   ]
  },
  {
   "cell_type": "markdown",
   "metadata": {},
   "source": [
    "Conclusion:\n",
    "So the approach that had the lowest rmse out of the three approaches I tried, resulted in using PCA on scaled medianlistprice and scaled s&p composite. The rmse for this approach was 0.89. Additionally I was then able to project out 1 to 5 months from now the misery index. Recall that a healthy economy has a health misery index between 6 and 7 and at three months from Dec 2019, the misery index is predicted to be 8 which is above our healthy index range. "
   ]
  }
 ],
 "metadata": {
  "kernelspec": {
   "display_name": "Python 3",
   "language": "python",
   "name": "python3"
  },
  "language_info": {
   "codemirror_mode": {
    "name": "ipython",
    "version": 3
   },
   "file_extension": ".py",
   "mimetype": "text/x-python",
   "name": "python",
   "nbconvert_exporter": "python",
   "pygments_lexer": "ipython3",
   "version": "3.7.3"
  }
 },
 "nbformat": 4,
 "nbformat_minor": 2
}
